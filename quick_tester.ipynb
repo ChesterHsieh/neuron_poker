{
 "cells": [
  {
   "cell_type": "code",
   "execution_count": 16,
   "id": "initial_id",
   "metadata": {
    "collapsed": true,
    "ExecuteTime": {
     "end_time": "2024-05-10T08:32:20.240802Z",
     "start_time": "2024-05-10T08:32:20.236632Z"
    }
   },
   "outputs": [],
   "source": [
    "from importlib import reload\n",
    "\n",
    "from agents.agent_consider_equity import EquityPlayer"
   ]
  },
  {
   "cell_type": "code",
   "outputs": [],
   "source": [
    "import gymnasium as gym"
   ],
   "metadata": {
    "collapsed": false,
    "ExecuteTime": {
     "end_time": "2024-05-10T08:31:57.950086Z",
     "start_time": "2024-05-10T08:31:57.947615Z"
    }
   },
   "id": "cadf7d55c86f4920",
   "execution_count": 12
  },
  {
   "cell_type": "code",
   "outputs": [],
   "source": [
    "from gym_env import env\n",
    "from torchrl.envs import GymLikeEnv, GymWrapper, GymEnv"
   ],
   "metadata": {
    "collapsed": false,
    "ExecuteTime": {
     "end_time": "2024-05-10T08:32:03.570239Z",
     "start_time": "2024-05-10T08:31:58.641049Z"
    }
   },
   "id": "36cc6835aeb988dd",
   "execution_count": 13
  },
  {
   "cell_type": "code",
   "outputs": [
    {
     "data": {
      "text/plain": "<module 'gym_env.env' from '/Users/chester/PycharmProjects/neuron_poker/gym_env/env.py'>"
     },
     "execution_count": 14,
     "metadata": {},
     "output_type": "execute_result"
    }
   ],
   "source": [
    "reload(env)"
   ],
   "metadata": {
    "collapsed": false,
    "ExecuteTime": {
     "end_time": "2024-05-10T08:32:05.782151Z",
     "start_time": "2024-05-10T08:32:05.727320Z"
    }
   },
   "id": "7dab16ad241730e7",
   "execution_count": 14
  },
  {
   "cell_type": "code",
   "outputs": [
    {
     "ename": "AttributeError",
     "evalue": "'list' object has no attribute 'position'",
     "output_type": "error",
     "traceback": [
      "\u001B[0;31m---------------------------------------------------------------------------\u001B[0m",
      "\u001B[0;31mAttributeError\u001B[0m                            Traceback (most recent call last)",
      "Cell \u001B[0;32mIn[17], line 6\u001B[0m\n\u001B[1;32m      2\u001B[0m betting \u001B[38;5;241m=\u001B[39m [\u001B[38;5;241m.2\u001B[39m, \u001B[38;5;241m.3\u001B[39m, \u001B[38;5;241m.4\u001B[39m, \u001B[38;5;241m.5\u001B[39m, \u001B[38;5;241m.6\u001B[39m, \u001B[38;5;241m.7\u001B[39m]\n\u001B[1;32m      3\u001B[0m players \u001B[38;5;241m=\u001B[39m [EquityPlayer(name\u001B[38;5;241m=\u001B[39m\u001B[38;5;124mf\u001B[39m\u001B[38;5;124m'\u001B[39m\u001B[38;5;124mEquity/\u001B[39m\u001B[38;5;132;01m{\u001B[39;00mcalling[i]\u001B[38;5;132;01m}\u001B[39;00m\u001B[38;5;124m/\u001B[39m\u001B[38;5;132;01m{\u001B[39;00mbetting[i]\u001B[38;5;132;01m}\u001B[39;00m\u001B[38;5;124m'\u001B[39m,\n\u001B[1;32m      4\u001B[0m                         min_call_equity\u001B[38;5;241m=\u001B[39mcalling[i],\n\u001B[1;32m      5\u001B[0m                         min_bet_equity\u001B[38;5;241m=\u001B[39mbetting[i]) \u001B[38;5;28;01mfor\u001B[39;00m i \u001B[38;5;129;01min\u001B[39;00m \u001B[38;5;28mrange\u001B[39m(\u001B[38;5;241m4\u001B[39m)]\n\u001B[0;32m----> 6\u001B[0m env_holdem \u001B[38;5;241m=\u001B[39m \u001B[43menv\u001B[49m\u001B[38;5;241;43m.\u001B[39;49m\u001B[43mHoldemTable\u001B[49m\u001B[43m(\u001B[49m\u001B[43mplayers\u001B[49m\u001B[38;5;241;43m=\u001B[39;49m\u001B[43mplayers\u001B[49m\u001B[43m)\u001B[49m\n",
      "File \u001B[0;32m~/PycharmProjects/neuron_poker/gym_env/env.py:190\u001B[0m, in \u001B[0;36mHoldemTable.__init__\u001B[0;34m(self, initial_stacks, small_blind, big_blind, render, funds_plot, max_raises_per_player_round, players, raise_illegal_moves, calculate_equity)\u001B[0m\n\u001B[1;32m    187\u001B[0m \u001B[38;5;28mself\u001B[39m\u001B[38;5;241m.\u001B[39mraise_illegal_moves \u001B[38;5;241m=\u001B[39m raise_illegal_moves\n\u001B[1;32m    189\u001B[0m \u001B[38;5;28mself\u001B[39m\u001B[38;5;241m.\u001B[39mdealer_pos \u001B[38;5;241m=\u001B[39m \u001B[38;5;241m0\u001B[39m\n\u001B[0;32m--> 190\u001B[0m \u001B[38;5;28;43mself\u001B[39;49m\u001B[38;5;241;43m.\u001B[39;49m\u001B[43mreset\u001B[49m\u001B[43m(\u001B[49m\u001B[43m)\u001B[49m\n",
      "File \u001B[0;32m~/PycharmProjects/neuron_poker/gym_env/env.py:219\u001B[0m, in \u001B[0;36mHoldemTable.reset\u001B[0;34m(self)\u001B[0m\n\u001B[1;32m    215\u001B[0m \u001B[38;5;28mself\u001B[39m\u001B[38;5;241m.\u001B[39mplayer_cycle \u001B[38;5;241m=\u001B[39m PlayerCycle(\u001B[38;5;28mself\u001B[39m\u001B[38;5;241m.\u001B[39mplayers, dealer_idx\u001B[38;5;241m=\u001B[39m\u001B[38;5;241m-\u001B[39m\u001B[38;5;241m1\u001B[39m, max_steps_after_raiser\u001B[38;5;241m=\u001B[39mmax_steps_after_raiser,\n\u001B[1;32m    216\u001B[0m                                 max_steps_after_big_blind\u001B[38;5;241m=\u001B[39m\u001B[38;5;28mlen\u001B[39m(\u001B[38;5;28mself\u001B[39m\u001B[38;5;241m.\u001B[39mplayers),\n\u001B[1;32m    217\u001B[0m                                 max_raises_per_player_round\u001B[38;5;241m=\u001B[39m\u001B[38;5;28mself\u001B[39m\u001B[38;5;241m.\u001B[39mmax_raises_per_player_round)\n\u001B[1;32m    218\u001B[0m \u001B[38;5;28mself\u001B[39m\u001B[38;5;241m.\u001B[39m_start_new_hand()\n\u001B[0;32m--> 219\u001B[0m \u001B[38;5;28;43mself\u001B[39;49m\u001B[38;5;241;43m.\u001B[39;49m\u001B[43m_get_environment\u001B[49m\u001B[43m(\u001B[49m\u001B[43m)\u001B[49m\n\u001B[1;32m    220\u001B[0m \u001B[38;5;66;03m# auto play for agents where autoplay is set\u001B[39;00m\n\u001B[1;32m    221\u001B[0m \u001B[38;5;28;01mif\u001B[39;00m \u001B[38;5;28mself\u001B[39m\u001B[38;5;241m.\u001B[39m_is_agent_autoplay() \u001B[38;5;129;01mand\u001B[39;00m \u001B[38;5;129;01mnot\u001B[39;00m \u001B[38;5;28mself\u001B[39m\u001B[38;5;241m.\u001B[39mdone:\n",
      "File \u001B[0;32m~/PycharmProjects/neuron_poker/gym_env/env.py:319\u001B[0m, in \u001B[0;36mHoldemTable._get_environment\u001B[0;34m(self)\u001B[0m\n\u001B[1;32m    316\u001B[0m \u001B[38;5;28;01mif\u001B[39;00m \u001B[38;5;129;01mnot\u001B[39;00m \u001B[38;5;28mself\u001B[39m\u001B[38;5;241m.\u001B[39mcurrent_player:  \u001B[38;5;66;03m# game over\u001B[39;00m\n\u001B[1;32m    317\u001B[0m     \u001B[38;5;28mself\u001B[39m\u001B[38;5;241m.\u001B[39mcurrent_player \u001B[38;5;241m=\u001B[39m \u001B[38;5;28mself\u001B[39m\u001B[38;5;241m.\u001B[39mplayers[\u001B[38;5;28mself\u001B[39m\u001B[38;5;241m.\u001B[39mwinner_ix]\n\u001B[0;32m--> 319\u001B[0m \u001B[38;5;28mself\u001B[39m\u001B[38;5;241m.\u001B[39mplayer_data\u001B[38;5;241m.\u001B[39mposition \u001B[38;5;241m=\u001B[39m \u001B[38;5;28mself\u001B[39m\u001B[38;5;241m.\u001B[39mcurrent_player\u001B[38;5;241m.\u001B[39mseat\n\u001B[1;32m    320\u001B[0m \u001B[38;5;28;01mif\u001B[39;00m \u001B[38;5;28mself\u001B[39m\u001B[38;5;241m.\u001B[39mcalculate_equity:\n\u001B[1;32m    321\u001B[0m     \u001B[38;5;28mself\u001B[39m\u001B[38;5;241m.\u001B[39mcurrent_player\u001B[38;5;241m.\u001B[39mequity_alive \u001B[38;5;241m=\u001B[39m \u001B[38;5;28mself\u001B[39m\u001B[38;5;241m.\u001B[39mget_equity(\u001B[38;5;28mset\u001B[39m(\u001B[38;5;28mself\u001B[39m\u001B[38;5;241m.\u001B[39mcurrent_player\u001B[38;5;241m.\u001B[39mcards), \u001B[38;5;28mset\u001B[39m(\u001B[38;5;28mself\u001B[39m\u001B[38;5;241m.\u001B[39mtable_cards),\n\u001B[1;32m    322\u001B[0m                                                        \u001B[38;5;28msum\u001B[39m(\u001B[38;5;28mself\u001B[39m\u001B[38;5;241m.\u001B[39mplayer_cycle\u001B[38;5;241m.\u001B[39malive), MONTEACRLO_RUNS)\n",
      "\u001B[0;31mAttributeError\u001B[0m: 'list' object has no attribute 'position'"
     ]
    }
   ],
   "source": [
    "calling = [.1, .2, .3, .4, .5, .6]\n",
    "betting = [.2, .3, .4, .5, .6, .7]\n",
    "players = [EquityPlayer(name=f'Equity/{calling[i]}/{betting[i]}',\n",
    "                        min_call_equity=calling[i],\n",
    "                        min_bet_equity=betting[i]) for i in range(4)]\n",
    "env_holdem = env.HoldemTable(players=players)"
   ],
   "metadata": {
    "collapsed": false,
    "ExecuteTime": {
     "end_time": "2024-05-10T08:32:21.979363Z",
     "start_time": "2024-05-10T08:32:21.798004Z"
    }
   },
   "id": "ff3353aff577aae0",
   "execution_count": 17
  }
 ],
 "metadata": {
  "kernelspec": {
   "display_name": "Python 3",
   "language": "python",
   "name": "python3"
  },
  "language_info": {
   "codemirror_mode": {
    "name": "ipython",
    "version": 2
   },
   "file_extension": ".py",
   "mimetype": "text/x-python",
   "name": "python",
   "nbconvert_exporter": "python",
   "pygments_lexer": "ipython2",
   "version": "2.7.6"
  }
 },
 "nbformat": 4,
 "nbformat_minor": 5
}
